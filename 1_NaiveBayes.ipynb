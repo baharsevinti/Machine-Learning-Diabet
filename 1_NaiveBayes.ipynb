{
  "nbformat": 4,
  "nbformat_minor": 0,
  "metadata": {
    "colab": {
      "provenance": [],
      "include_colab_link": true
    },
    "kernelspec": {
      "name": "python3",
      "display_name": "Python 3"
    },
    "language_info": {
      "name": "python"
    }
  },
  "cells": [
    {
      "cell_type": "markdown",
      "metadata": {
        "id": "view-in-github",
        "colab_type": "text"
      },
      "source": [
        "<a href=\"https://colab.research.google.com/github/baharsevinti/Machine-Learning-Diabet/blob/main/1_NaiveBayes.ipynb\" target=\"_parent\"><img src=\"https://colab.research.google.com/assets/colab-badge.svg\" alt=\"Open In Colab\"/></a>"
      ]
    },
    {
      "cell_type": "code",
      "execution_count": null,
      "metadata": {
        "id": "6gufuEJq448Y",
        "colab": {
          "base_uri": "https://localhost:8080/",
          "height": 915
        },
        "outputId": "f64c2871-1f07-4dee-80d7-b1fc29cbbec5"
      },
      "outputs": [
        {
          "output_type": "stream",
          "name": "stdout",
          "text": [
            "Naive Bayes Results with Cross-Validation:\n",
            "[[420  80]\n",
            " [111 157]]\n",
            "              precision    recall  f1-score   support\n",
            "\n",
            "           0       0.79      0.84      0.81       500\n",
            "           1       0.66      0.59      0.62       268\n",
            "\n",
            "    accuracy                           0.75       768\n",
            "   macro avg       0.73      0.71      0.72       768\n",
            "weighted avg       0.75      0.75      0.75       768\n",
            "\n"
          ]
        },
        {
          "output_type": "display_data",
          "data": {
            "text/plain": [
              "<Figure size 800x600 with 1 Axes>"
            ],
            "image/png": "[encoded data removed]"
          },
          "metadata": {}
        },
        {
          "output_type": "stream",
          "name": "stdout",
          "text": [
            "\n",
            "Performans Metrikleri\n",
            "-----------------------------\n",
            "Accuracy: 0.7445887445887446\n",
            "Precision:  0.6235294117647059\n",
            "Recall: 0.6625\n",
            "F1 Score: 0.6424242424242423\n"
          ]
        }
      ],
      "source": [
        "# Soru 1 ->  NAİVE BAYES\n",
        "\n",
        "from sklearn.metrics import confusion_matrix, classification_report, roc_auc_score,f1_score\n",
        "from sklearn.model_selection import train_test_split, cross_val_predict\n",
        "from sklearn.naive_bayes import GaussianNB\n",
        "import pandas as pd\n",
        "import matplotlib.pyplot as plt\n",
        "import seaborn as sns\n",
        "\n",
        "# Veri Setini Projete dahil etme\n",
        "data = pd.read_csv(\"dataset.csv\")\n",
        "\n",
        "# Özellikler ve hedef değişkeni ayırıyoruz\n",
        "X = data.drop(columns=['Class variable (0 or 1)'])  # Class variable sütununu dışarıda bırakarak veri setindeki bağımsız değişkenleri içeren bir DataFrame oluşturur\n",
        "\n",
        "y = data['Class variable (0 or 1)']  # Class variable sütununu hedef değişken olarak seçer ve bunu y değişkenine atar.\n",
        "\n",
        "# Verileri test ve eğitim olarak ayırma\n",
        "X_train, X_test, y_train, y_test = train_test_split(X, y, test_size=0.3, random_state=42)\n",
        "\n",
        "# Naive Bayes modeli oluşturma\n",
        "naive_bayes = GaussianNB()\n",
        "\n",
        "# Modeli eğitme\n",
        "naive_bayes.fit(X_train, y_train)\n",
        "\n",
        "# Tahminleri cross-validation ile yapma\n",
        "nb_predictions_cv = cross_val_predict(naive_bayes, X, y, cv=5)\n",
        "\n",
        "print(\"Naive Bayes Results with Cross-Validation:\")\n",
        "print(confusion_matrix(y, nb_predictions_cv))\n",
        "print(classification_report(y, nb_predictions_cv))\n",
        "\n",
        "# Modelin test verileri üzerinde tahmin yapması\n",
        "nb_predictions = naive_bayes.predict(X_test)\n",
        "\n",
        "# Confusion matrix hesaplama işlemi\n",
        "nb_conf_matrix = confusion_matrix(y_test, nb_predictions)\n",
        "\n",
        "# Confusion matrix'i görselleştirme\n",
        "plt.figure(figsize=(8, 6))\n",
        "sns.heatmap(nb_conf_matrix, annot=True, fmt='d', cmap='Blues', cbar=False)\n",
        "plt.title('Confusion Matrix')\n",
        "plt.xlabel('Predicted Labels')\n",
        "plt.ylabel('True Labels')\n",
        "plt.show()\n",
        "\n",
        "from sklearn.metrics import accuracy_score, precision_score, recall_score\n",
        "\n",
        "# Doğruluk (Accuracy) hesaplama\n",
        "accuracy = accuracy_score(y_test, nb_predictions)\n",
        "\n",
        "# Hassasiyet (Precision) hesaplama\n",
        "precision = precision_score(y_test, nb_predictions)\n",
        "\n",
        "# Duyarlılık (Recall) hesaplama\n",
        "recall = recall_score(y_test, nb_predictions)\n",
        "\n",
        "# F1 skoru hesaplama\n",
        "f1 = f1_score(y_test, nb_predictions)\n",
        "\n",
        "print(\"\\nPerformans Metrikleri\\n-----------------------------\")\n",
        "print(\"Accuracy:\", accuracy)\n",
        "print(\"Precision: \", precision)\n",
        "print(\"Recall:\", recall)\n",
        "print(\"F1 Score:\", f1)\n",
        "\n",
        "\n"
      ]
    }
  ]
}